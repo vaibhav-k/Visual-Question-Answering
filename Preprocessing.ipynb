{
 "cells": [
  {
   "cell_type": "markdown",
   "metadata": {
    "colab_type": "text",
    "id": "VCseE72qvotB",
    "nbpresent": {
     "id": "4158928c-f65f-4395-bd4f-97cd737871b4"
    }
   },
   "source": [
    "### Import Libraries"
   ]
  },
  {
   "cell_type": "code",
   "execution_count": 1,
   "metadata": {
    "colab": {
     "base_uri": "https://localhost:8080/",
     "height": 34
    },
    "colab_type": "code",
    "executionInfo": {
     "elapsed": 3298,
     "status": "ok",
     "timestamp": 1542407081414,
     "user": {
      "displayName": "Deepesh Makhijani",
      "photoUrl": "https://lh6.googleusercontent.com/-yTXHk5B3Bjs/AAAAAAAAAAI/AAAAAAAAAMQ/z9m1NPmwROo/s64/photo.jpg",
      "userId": "00947495800042339933"
     },
     "user_tz": -330
    },
    "id": "g18W-XnFvotD",
    "nbpresent": {
     "id": "2517fa70-c6bb-425f-b117-74131ed21901"
    },
    "outputId": "a85ec445-3dd1-4460-d160-b26bf7bea02c"
   },
   "outputs": [
    {
     "name": "stderr",
     "output_type": "stream",
     "text": [
      "C:\\Anaconda\\lib\\site-packages\\h5py\\__init__.py:36: FutureWarning: Conversion of the second argument of issubdtype from `float` to `np.floating` is deprecated. In future, it will be treated as `np.float64 == np.dtype(float).type`.\n",
      "  from ._conv import register_converters as _register_converters\n",
      "Using TensorFlow backend.\n"
     ]
    }
   ],
   "source": [
    "import os\n",
    "import json\n",
    "import numpy as np\n",
    "from tqdm import tqdm\n",
    "import re\n",
    "\n",
    "from keras.preprocessing.text import Tokenizer\n",
    "from keras.preprocessing.sequence import pad_sequences\n",
    "from keras.utils.np_utils import to_categorical\n",
    "from sklearn.model_selection import train_test_split\n",
    "from keras.models import load_model\n",
    "\n",
    "from keras.models import Model\n",
    "from keras.layers import Dense, Embedding, LSTM, Input, concatenate\n",
    "from keras.callbacks import EarlyStopping, ModelCheckpoint\n",
    "\n",
    "import cv2 as cv\n",
    "\n",
    "import keras\n",
    "from keras.models import Sequential, Model\n",
    "from keras.layers import Dense, Dropout, Activation, Flatten, Input, Embedding, \\\n",
    "    LSTM, Bidirectional, Lambda, Concatenate, Add\n",
    "from keras.layers.convolutional import Conv2D, MaxPooling2D, AveragePooling2D\n",
    "from keras.layers.normalization import BatchNormalization, regularizers\n",
    "from keras.optimizers import Adam, RMSprop\n",
    "import gc\n",
    "import subprocess\n",
    "import pickle"
   ]
  },
  {
   "cell_type": "markdown",
   "metadata": {
    "colab_type": "text",
    "id": "YuEzbfixvotL",
    "nbpresent": {
     "id": "986df3be-30f9-45e4-ab90-a8dbbbeed1e5"
    }
   },
   "source": [
    "### Loading Files"
   ]
  },
  {
   "cell_type": "code",
   "execution_count": 2,
   "metadata": {},
   "outputs": [],
   "source": [
    "image_files = os.listdir('./images')"
   ]
  },
  {
   "cell_type": "code",
   "execution_count": 3,
   "metadata": {
    "colab": {
     "base_uri": "https://localhost:8080/",
     "height": 34
    },
    "colab_type": "code",
    "executionInfo": {
     "elapsed": 96948,
     "status": "ok",
     "timestamp": 1542407285716,
     "user": {
      "displayName": "Deepesh Makhijani",
      "photoUrl": "https://lh6.googleusercontent.com/-yTXHk5B3Bjs/AAAAAAAAAAI/AAAAAAAAAMQ/z9m1NPmwROo/s64/photo.jpg",
      "userId": "00947495800042339933"
     },
     "user_tz": -330
    },
    "id": "MxsRbLNmoh8u",
    "nbpresent": {
     "id": "16df6ed4-6feb-4f4e-a716-4dd8aed5efed"
    },
    "outputId": "2b3290c1-ce7e-4063-b5bc-5cfa70b5e24f"
   },
   "outputs": [
    {
     "data": {
      "text/plain": [
       "'CLEVR_new_000000.png'"
      ]
     },
     "execution_count": 3,
     "metadata": {},
     "output_type": "execute_result"
    }
   ],
   "source": [
    "image_files[0]"
   ]
  },
  {
   "cell_type": "code",
   "execution_count": 4,
   "metadata": {
    "colab": {
     "base_uri": "https://localhost:8080/",
     "height": 34
    },
    "colab_type": "code",
    "executionInfo": {
     "elapsed": 96569,
     "status": "ok",
     "timestamp": 1542407285718,
     "user": {
      "displayName": "Deepesh Makhijani",
      "photoUrl": "https://lh6.googleusercontent.com/-yTXHk5B3Bjs/AAAAAAAAAAI/AAAAAAAAAMQ/z9m1NPmwROo/s64/photo.jpg",
      "userId": "00947495800042339933"
     },
     "user_tz": -330
    },
    "id": "BL8SEgKEl-ny",
    "nbpresent": {
     "id": "9e691983-7ad3-4edb-8e2d-8dd1cbd30fb5"
    },
    "outputId": "cdfda766-c902-4df1-98cd-5cc594c08a56"
   },
   "outputs": [
    {
     "data": {
      "text/plain": [
       "14791"
      ]
     },
     "execution_count": 4,
     "metadata": {},
     "output_type": "execute_result"
    }
   ],
   "source": [
    "len(image_files)"
   ]
  },
  {
   "cell_type": "code",
   "execution_count": 5,
   "metadata": {
    "colab": {
     "base_uri": "https://localhost:8080/",
     "height": 68
    },
    "colab_type": "code",
    "executionInfo": {
     "elapsed": 96422,
     "status": "ok",
     "timestamp": 1542407286172,
     "user": {
      "displayName": "Deepesh Makhijani",
      "photoUrl": "https://lh6.googleusercontent.com/-yTXHk5B3Bjs/AAAAAAAAAAI/AAAAAAAAAMQ/z9m1NPmwROo/s64/photo.jpg",
      "userId": "00947495800042339933"
     },
     "user_tz": -330
    },
    "id": "wKAg4CxyniYf",
    "nbpresent": {
     "id": "3eba66a0-fcf3-46e9-b107-7f88ada57425"
    },
    "outputId": "f76bb766-5fc7-49a2-c1db-d7708031d976"
   },
   "outputs": [
    {
     "data": {
      "text/plain": [
       "{'Question': 'There is a metal thing that is in front of the gray thing right of the big blue shiny sphere; how many rubber cubes are in front of it?',\n",
       " 'Image': 'CLEVR_new_000000',\n",
       " 'Answer': 0}"
      ]
     },
     "execution_count": 5,
     "metadata": {},
     "output_type": "execute_result"
    }
   ],
   "source": [
    "with open('./Quest_Answers.json') as f:\n",
    "    que_ans = json.load(f)['quest_answers']\n",
    "\n",
    "que_ans[0]"
   ]
  },
  {
   "cell_type": "code",
   "execution_count": 6,
   "metadata": {
    "colab": {
     "base_uri": "https://localhost:8080/",
     "height": 34
    },
    "colab_type": "code",
    "executionInfo": {
     "elapsed": 96556,
     "status": "ok",
     "timestamp": 1542407286893,
     "user": {
      "displayName": "Deepesh Makhijani",
      "photoUrl": "https://lh6.googleusercontent.com/-yTXHk5B3Bjs/AAAAAAAAAAI/AAAAAAAAAMQ/z9m1NPmwROo/s64/photo.jpg",
      "userId": "00947495800042339933"
     },
     "user_tz": -330
    },
    "id": "SFXk-5OcpxQ1",
    "nbpresent": {
     "id": "8e333833-dbc9-47ca-8705-ee104e0e18d4"
    },
    "outputId": "7cc721c4-b80b-468c-b8dc-ca4b25257ac3"
   },
   "outputs": [
    {
     "data": {
      "text/plain": [
       "135020"
      ]
     },
     "execution_count": 6,
     "metadata": {},
     "output_type": "execute_result"
    }
   ],
   "source": [
    "len(que_ans)"
   ]
  },
  {
   "cell_type": "markdown",
   "metadata": {
    "colab_type": "text",
    "id": "RaDaUpsNvotq",
    "nbpresent": {
     "id": "849a10bf-cc17-421c-8817-8219c8bf11ed"
    }
   },
   "source": [
    "### Preprocessing Questions"
   ]
  },
  {
   "cell_type": "code",
   "execution_count": 7,
   "metadata": {
    "colab": {},
    "colab_type": "code",
    "id": "hPkcvHeUvotr",
    "nbpresent": {
     "id": "0e52988e-35db-471c-9cd6-79f3e7ddc75b"
    }
   },
   "outputs": [],
   "source": [
    "groups_dict = {\n",
    "    'number':['0', '1', '2', '3', '4', '5', '6', '7', '8'],\n",
    "    'material':['rubber','metal'],\n",
    "    'color':['cyan','blue','yellow','purple','red','green','gray','brown'],\n",
    "    'shape':['sphere','cube','cylinder'],\n",
    "    'size':['large','small'],\n",
    "    'exist':['True', 'False']\n",
    "}"
   ]
  },
  {
   "cell_type": "code",
   "execution_count": 8,
   "metadata": {
    "colab": {},
    "colab_type": "code",
    "id": "89DqIFyHvotu",
    "nbpresent": {
     "id": "c603a420-a7bc-4061-8e28-d2f4dc89f6c2"
    }
   },
   "outputs": [],
   "source": [
    "def get_group(answer):\n",
    "    for name,values in groups_dict.items():\n",
    "        if answer in values:\n",
    "            return name"
   ]
  },
  {
   "cell_type": "code",
   "execution_count": 9,
   "metadata": {
    "colab": {},
    "colab_type": "code",
    "id": "oDcYJZmyvotx",
    "nbpresent": {
     "id": "33c3350a-23e2-4fda-85d6-021d4383cdc1"
    }
   },
   "outputs": [],
   "source": [
    "questions = []\n",
    "answers = []\n",
    "groups = []\n",
    "images = []\n",
    "\n",
    "for q in que_ans:\n",
    "    answers.append(str(q['Answer']))\n",
    "    images.append(q['Image'])\n",
    "    groups.append(get_group(str(q['Answer'])))\n",
    "    questions.append(q['Question'])"
   ]
  },
  {
   "cell_type": "code",
   "execution_count": 10,
   "metadata": {
    "colab": {
     "base_uri": "https://localhost:8080/",
     "height": 136
    },
    "colab_type": "code",
    "executionInfo": {
     "elapsed": 100884,
     "status": "ok",
     "timestamp": 1542407294423,
     "user": {
      "displayName": "Deepesh Makhijani",
      "photoUrl": "https://lh6.googleusercontent.com/-yTXHk5B3Bjs/AAAAAAAAAAI/AAAAAAAAAMQ/z9m1NPmwROo/s64/photo.jpg",
      "userId": "00947495800042339933"
     },
     "user_tz": -330
    },
    "id": "xz8XKNA2votz",
    "nbpresent": {
     "id": "673f9c10-d4d8-46e5-8ca8-d738c83c26b4"
    },
    "outputId": "453d91b2-666c-408c-8893-1e31df4ddc52"
   },
   "outputs": [
    {
     "data": {
      "text/plain": [
       "array([[ 0,  0,  0, ..., 27,  3, 47],\n",
       "       [ 0,  0,  0, ..., 38, 31,  7],\n",
       "       [ 0,  0,  0, ..., 13,  2, 47],\n",
       "       ...,\n",
       "       [ 0,  0,  0, ..., 41, 17,  6],\n",
       "       [ 0,  0,  0, ..., 16, 17, 44],\n",
       "       [ 0,  0,  0, ...,  1, 39,  7]])"
      ]
     },
     "execution_count": 10,
     "metadata": {},
     "output_type": "execute_result"
    }
   ],
   "source": [
    "tokenizer = Tokenizer(num_words=100, filters='!\"#$%&()*+,-./:;<=>?@[\\\\]^_`{|}~\\t\\n',\n",
    "                lower=True, split=' ')\n",
    "\n",
    "tokenizer.fit_on_texts(questions)\n",
    "questions_tokenized = tokenizer.texts_to_sequences(questions)\n",
    "questions_padded = pad_sequences(questions_tokenized, maxlen=40)\n",
    "questions_padded"
   ]
  },
  {
   "cell_type": "code",
   "execution_count": 11,
   "metadata": {
    "colab": {},
    "colab_type": "code",
    "id": "SxIIBq67TOgK",
    "nbpresent": {
     "id": "c483ff4d-1bdb-48ae-8186-4b9626c246b5"
    }
   },
   "outputs": [],
   "source": [
    "file = open(\"questions.pkl\", \"wb\")\n",
    "pickle.dump(questions_padded, file)\n",
    "file.close()"
   ]
  },
  {
   "cell_type": "code",
   "execution_count": 12,
   "metadata": {
    "colab": {},
    "colab_type": "code",
    "id": "2aJQrkDfn-5N",
    "nbpresent": {
     "id": "4984c555-2c4d-44b1-854a-a7fd42058bef"
    }
   },
   "outputs": [],
   "source": [
    "file = open(\"answers.pkl\", \"wb\")\n",
    "pickle.dump(answers, file)\n",
    "file.close()"
   ]
  },
  {
   "cell_type": "code",
   "execution_count": 13,
   "metadata": {},
   "outputs": [],
   "source": [
    "file = open(\"image_labels.pkl\", \"wb\")\n",
    "pickle.dump(images, file)\n",
    "file.close()"
   ]
  },
  {
   "cell_type": "code",
   "execution_count": 14,
   "metadata": {},
   "outputs": [],
   "source": [
    "file = open(\"groups.pkl\", \"wb\")\n",
    "pickle.dump(groups, file)\n",
    "file.close()"
   ]
  },
  {
   "cell_type": "code",
   "execution_count": 15,
   "metadata": {},
   "outputs": [],
   "source": [
    "file = open(\"tokenizer.pkl\", \"wb\")\n",
    "pickle.dump(tokenizer, file)\n",
    "file.close()"
   ]
  },
  {
   "cell_type": "markdown",
   "metadata": {
    "colab_type": "text",
    "id": "EWYlJHHVvouN",
    "nbpresent": {
     "id": "1a01ad26-6401-4c94-a4c1-959a36419346"
    }
   },
   "source": [
    "### Preprocessing Images"
   ]
  },
  {
   "cell_type": "code",
   "execution_count": 16,
   "metadata": {
    "colab": {},
    "colab_type": "code",
    "id": "rsNqutUivouO",
    "nbpresent": {
     "id": "7087ea1d-4350-45cc-bfb4-cd6f422e88e3"
    }
   },
   "outputs": [
    {
     "name": "stderr",
     "output_type": "stream",
     "text": [
      "100%|██████████████████████████████████████████████████████████████████████████| 14791/14791 [00:14<00:00, 1049.30it/s]\n"
     ]
    }
   ],
   "source": [
    "images_processed = []\n",
    "image_labels_unique = []\n",
    "\n",
    "for image in tqdm(image_files):\n",
    "    file = os.path.join(\"./images/\", image)\n",
    "    try:\n",
    "        image_read = cv.cvtColor(cv.imread(file),cv.COLOR_BGR2RGB)\n",
    "        image_resized = cv.resize(image_read, (80,60))\n",
    "        images_processed.append(image_resized)\n",
    "        image_labels_unique.append(image)\n",
    "    except:\n",
    "        pass"
   ]
  },
  {
   "cell_type": "code",
   "execution_count": 17,
   "metadata": {
    "colab": {},
    "colab_type": "code",
    "id": "z1_ND1C0vouS",
    "nbpresent": {
     "id": "1b7aeb40-c188-42ba-990f-b335adfc7762"
    }
   },
   "outputs": [],
   "source": [
    "images_array = np.array(images_processed, np.float32) / 255."
   ]
  },
  {
   "cell_type": "code",
   "execution_count": 18,
   "metadata": {
    "colab": {},
    "colab_type": "code",
    "id": "QYEv39ZLvouV",
    "nbpresent": {
     "id": "85dac57f-df02-48f0-80b5-cf4d0b41015a"
    }
   },
   "outputs": [],
   "source": [
    "mean_img = images_array.mean(axis=0)\n",
    "std_dev = images_array.std(axis = 0)\n",
    "images_normalized = (images_array - mean_img)/ std_dev"
   ]
  },
  {
   "cell_type": "code",
   "execution_count": 19,
   "metadata": {
    "colab": {},
    "colab_type": "code",
    "id": "nqt-N4LFPN4m",
    "nbpresent": {
     "id": "de93f484-9d9f-4468-818c-9b4704e31bf8"
    }
   },
   "outputs": [],
   "source": [
    "file = open(\"image_labels_unique.pkl\", \"wb\")\n",
    "pickle.dump(image_labels_unique, file)\n",
    "file.close()"
   ]
  },
  {
   "cell_type": "code",
   "execution_count": 20,
   "metadata": {},
   "outputs": [],
   "source": [
    "file = open(\"image_data_unique.pkl\", \"wb\")\n",
    "pickle.dump(images_normalized, file)\n",
    "file.close()"
   ]
  }
 ],
 "metadata": {
  "accelerator": "TPU",
  "colab": {
   "collapsed_sections": [
    "D1rQ5a-SFOOG",
    "WG3R9I_b85DG"
   ],
   "name": "NNFL.ipynb",
   "provenance": [],
   "version": "0.3.2"
  },
  "kernelspec": {
   "display_name": "Python [default]",
   "language": "python",
   "name": "python3"
  },
  "language_info": {
   "codemirror_mode": {
    "name": "ipython",
    "version": 3
   },
   "file_extension": ".py",
   "mimetype": "text/x-python",
   "name": "python",
   "nbconvert_exporter": "python",
   "pygments_lexer": "ipython3",
   "version": "3.6.5"
  }
 },
 "nbformat": 4,
 "nbformat_minor": 1
}
