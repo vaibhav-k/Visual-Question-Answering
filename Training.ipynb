{
 "cells": [
  {
   "cell_type": "markdown",
   "metadata": {
    "colab_type": "text",
    "id": "VCseE72qvotB",
    "nbpresent": {
     "id": "4158928c-f65f-4395-bd4f-97cd737871b4"
    }
   },
   "source": [
    "### Import Libraries"
   ]
  },
  {
   "cell_type": "code",
   "execution_count": 2,
   "metadata": {
    "colab": {
     "base_uri": "https://localhost:8080/",
     "height": 34
    },
    "colab_type": "code",
    "executionInfo": {
     "elapsed": 3298,
     "status": "ok",
     "timestamp": 1542407081414,
     "user": {
      "displayName": "Deepesh Makhijani",
      "photoUrl": "https://lh6.googleusercontent.com/-yTXHk5B3Bjs/AAAAAAAAAAI/AAAAAAAAAMQ/z9m1NPmwROo/s64/photo.jpg",
      "userId": "00947495800042339933"
     },
     "user_tz": -330
    },
    "id": "g18W-XnFvotD",
    "nbpresent": {
     "id": "2517fa70-c6bb-425f-b117-74131ed21901"
    },
    "outputId": "a85ec445-3dd1-4460-d160-b26bf7bea02c"
   },
   "outputs": [
    {
     "name": "stderr",
     "output_type": "stream",
     "text": [
      "C:\\Anaconda\\lib\\site-packages\\h5py\\__init__.py:36: FutureWarning: Conversion of the second argument of issubdtype from `float` to `np.floating` is deprecated. In future, it will be treated as `np.float64 == np.dtype(float).type`.\n",
      "  from ._conv import register_converters as _register_converters\n",
      "Using TensorFlow backend.\n"
     ]
    }
   ],
   "source": [
    "import os\n",
    "import json\n",
    "import numpy as np\n",
    "from tqdm import tqdm\n",
    "import re\n",
    "import cv2 as cv\n",
    "import pickle\n",
    "\n",
    "from sklearn.model_selection import train_test_split\n",
    "from sklearn.utils import shuffle\n",
    "\n",
    "import keras\n",
    "from keras import backend as K\n",
    "from keras.preprocessing.text import Tokenizer\n",
    "from keras.preprocessing.sequence import pad_sequences\n",
    "from keras.utils.np_utils import to_categorical\n",
    "from keras.models import load_model, Model\n",
    "from keras.callbacks import EarlyStopping, ModelCheckpoint\n",
    "from keras.models import Sequential, Model\n",
    "from keras.layers import Dense, Dropout, Activation, Flatten, Input, Embedding, \\\n",
    "    LSTM, Bidirectional, Lambda, concatenate, Add, Concatenate\n",
    "from keras.layers.convolutional import Conv2D, MaxPooling2D, AveragePooling2D\n",
    "from keras.layers.normalization import BatchNormalization, regularizers\n",
    "from keras.optimizers import Adam, RMSprop"
   ]
  },
  {
   "cell_type": "markdown",
   "metadata": {
    "colab_type": "text",
    "id": "M_bYdX5oCQMv",
    "nbpresent": {
     "id": "7175c3e4-c0f2-43c7-a41e-5cc74673d2b5"
    }
   },
   "source": [
    "### Get Data Ready"
   ]
  },
  {
   "cell_type": "code",
   "execution_count": 3,
   "metadata": {
    "colab": {
     "base_uri": "https://localhost:8080/",
     "height": 51
    },
    "colab_type": "code",
    "executionInfo": {
     "elapsed": 170778,
     "status": "ok",
     "timestamp": 1542407393036,
     "user": {
      "displayName": "Deepesh Makhijani",
      "photoUrl": "https://lh6.googleusercontent.com/-yTXHk5B3Bjs/AAAAAAAAAAI/AAAAAAAAAMQ/z9m1NPmwROo/s64/photo.jpg",
      "userId": "00947495800042339933"
     },
     "user_tz": -330
    },
    "id": "O5GBE_PkqcQp",
    "nbpresent": {
     "id": "ef1fd39c-f049-421d-adae-b47a793188e2"
    },
    "outputId": "7224cf32-29fd-42de-ee0e-e57bbf123c37"
   },
   "outputs": [],
   "source": [
    "# Unpickling JSON data\n",
    "\n",
    "answers_pkl = open(\"answers.pkl\",\"rb\")\n",
    "answers = pickle.load(answers_pkl)\n",
    "answers_pkl.close()\n",
    "\n",
    "questions_pkl = open(\"questions.pkl\",\"rb\")\n",
    "questions = pickle.load(questions_pkl)\n",
    "questions_pkl.close()\n",
    "\n",
    "image_labels_pkl = open(\"image_labels.pkl\",\"rb\")\n",
    "image_labels = pickle.load(image_labels_pkl)\n",
    "image_labels_pkl.close()\n",
    "\n",
    "# Unpickling unique image labels and data\n",
    "\n",
    "image_labels_unique_pkl = open(\"image_labels_unique.pkl\",\"rb\")\n",
    "image_labels_unique = pickle.load(image_labels_unique_pkl)\n",
    "image_labels_unique_pkl.close()\n",
    "\n",
    "image_data_unique_pkl = open(\"image_data_unique.pkl\",\"rb\")\n",
    "image_data_unique = pickle.load(image_data_unique_pkl)\n",
    "image_data_unique_pkl.close()"
   ]
  },
  {
   "cell_type": "code",
   "execution_count": 4,
   "metadata": {
    "colab": {
     "base_uri": "https://localhost:8080/",
     "height": 34
    },
    "colab_type": "code",
    "executionInfo": {
     "elapsed": 19823,
     "status": "ok",
     "timestamp": 1542407422386,
     "user": {
      "displayName": "Deepesh Makhijani",
      "photoUrl": "https://lh6.googleusercontent.com/-yTXHk5B3Bjs/AAAAAAAAAAI/AAAAAAAAAMQ/z9m1NPmwROo/s64/photo.jpg",
      "userId": "00947495800042339933"
     },
     "user_tz": -330
    },
    "id": "ZaeA0vh21b3y",
    "nbpresent": {
     "id": "5ced1f54-9e37-472e-a833-297414ce5e53"
    },
    "outputId": "2f90f0c5-7396-4e16-9dc2-34d53461912c"
   },
   "outputs": [
    {
     "name": "stderr",
     "output_type": "stream",
     "text": [
      "100%|████████████████████████████████████████████████████████████████████████| 135020/135020 [00:18<00:00, 7328.09it/s]\n"
     ]
    }
   ],
   "source": [
    "train_images = []\n",
    "train_questions = []\n",
    "train_answers = []\n",
    "\n",
    "for idx, val in enumerate(tqdm(image_labels)):\n",
    "    try:\n",
    "        u = image_labels_unique.index(val + \".png\")\n",
    "        v = image_data_unique[u]\n",
    "        train_images.append(v)\n",
    "        train_questions.append(questions[idx])\n",
    "        train_answers.append(answers[idx])\n",
    "    except:\n",
    "        pass"
   ]
  },
  {
   "cell_type": "code",
   "execution_count": 5,
   "metadata": {
    "colab": {
     "base_uri": "https://localhost:8080/",
     "height": 34
    },
    "colab_type": "code",
    "executionInfo": {
     "elapsed": 5921,
     "status": "ok",
     "timestamp": 1542407422941,
     "user": {
      "displayName": "Deepesh Makhijani",
      "photoUrl": "https://lh6.googleusercontent.com/-yTXHk5B3Bjs/AAAAAAAAAAI/AAAAAAAAAMQ/z9m1NPmwROo/s64/photo.jpg",
      "userId": "00947495800042339933"
     },
     "user_tz": -330
    },
    "id": "YU_JLxfJTThs",
    "nbpresent": {
     "id": "9d6d7c30-b50e-4183-8c31-ab01c11b1dc3"
    },
    "outputId": "49aa8409-de63-41a9-c739-c2eede8d6cf2"
   },
   "outputs": [
    {
     "data": {
      "text/plain": [
       "(135020, 60, 80, 3)"
      ]
     },
     "execution_count": 5,
     "metadata": {},
     "output_type": "execute_result"
    }
   ],
   "source": [
    "train_images = np.array(train_images)\n",
    "train_images.shape"
   ]
  },
  {
   "cell_type": "code",
   "execution_count": 6,
   "metadata": {
    "colab": {
     "base_uri": "https://localhost:8080/",
     "height": 34
    },
    "colab_type": "code",
    "executionInfo": {
     "elapsed": 5137,
     "status": "ok",
     "timestamp": 1542407422942,
     "user": {
      "displayName": "Deepesh Makhijani",
      "photoUrl": "https://lh6.googleusercontent.com/-yTXHk5B3Bjs/AAAAAAAAAAI/AAAAAAAAAMQ/z9m1NPmwROo/s64/photo.jpg",
      "userId": "00947495800042339933"
     },
     "user_tz": -330
    },
    "id": "ypUXz7pyn-7j",
    "nbpresent": {
     "id": "44e3f0cb-7036-4dd1-856c-e56ee3d0086f"
    },
    "outputId": "519d758d-1436-40cd-c644-ca972a50e322"
   },
   "outputs": [
    {
     "data": {
      "text/plain": [
       "(135020, 40)"
      ]
     },
     "execution_count": 6,
     "metadata": {},
     "output_type": "execute_result"
    }
   ],
   "source": [
    "train_questions = np.array(train_questions)\n",
    "train_questions.shape"
   ]
  },
  {
   "cell_type": "code",
   "execution_count": 7,
   "metadata": {},
   "outputs": [],
   "source": [
    "unique_answers=list({i for i in train_answers})"
   ]
  },
  {
   "cell_type": "code",
   "execution_count": 8,
   "metadata": {},
   "outputs": [
    {
     "data": {
      "text/plain": [
       "{'1': 0,\n",
       " 'large': 1,\n",
       " 'gray': 2,\n",
       " '6': 3,\n",
       " 'cylinder': 4,\n",
       " '5': 5,\n",
       " 'rubber': 6,\n",
       " '4': 7,\n",
       " '3': 8,\n",
       " 'False': 9,\n",
       " 'brown': 10,\n",
       " '0': 11,\n",
       " 'small': 12,\n",
       " 'yellow': 13,\n",
       " 'cyan': 14,\n",
       " 'purple': 15,\n",
       " '7': 16,\n",
       " 'sphere': 17,\n",
       " 'red': 18,\n",
       " 'cube': 19,\n",
       " 'green': 20,\n",
       " '8': 21,\n",
       " 'True': 22,\n",
       " 'blue': 23,\n",
       " 'metal': 24,\n",
       " '2': 25}"
      ]
     },
     "execution_count": 8,
     "metadata": {},
     "output_type": "execute_result"
    }
   ],
   "source": [
    "group = {}\n",
    "for i in range(len(unique_answers)):\n",
    "    group[unique_answers[i]] = i\n",
    "group"
   ]
  },
  {
   "cell_type": "code",
   "execution_count": 9,
   "metadata": {},
   "outputs": [],
   "source": [
    "train_answers = [group[i] for i in train_answers]\n",
    "#train_answers = to_categorical(train_answers)"
   ]
  },
  {
   "cell_type": "code",
   "execution_count": 10,
   "metadata": {},
   "outputs": [],
   "source": [
    "test_images = train_images[:20000]\n",
    "test_questions = train_questions[:20000]\n",
    "test_answers = train_answers[:20000]"
   ]
  },
  {
   "cell_type": "code",
   "execution_count": 11,
   "metadata": {},
   "outputs": [],
   "source": [
    "train_images = train_images[20000:]\n",
    "train_questions = train_questions[20000:]\n",
    "train_answers = train_answers[20000:]"
   ]
  },
  {
   "cell_type": "markdown",
   "metadata": {
    "colab_type": "text",
    "id": "ZHoGzMqkvouZ",
    "nbpresent": {
     "id": "7a22464d-9db5-4615-b26a-9190a27664f6"
    }
   },
   "source": [
    "### Model 2"
   ]
  },
  {
   "cell_type": "code",
   "execution_count": 11,
   "metadata": {
    "colab": {},
    "colab_type": "code",
    "id": "PBW_7O5ANCMB",
    "nbpresent": {
     "id": "fcb6ddd4-154d-4416-a8a2-beec4927fcc8"
    }
   },
   "outputs": [],
   "source": [
    "def _cnn(kernel_size=3, stride_size=2):\n",
    "    def conv(model):\n",
    "        model = Conv2D(24, (5, 5), strides=(stride_size, stride_size),activation='relu',input_shape=(120, 160, 3), data_format='channels_last')(model)\n",
    "        model = BatchNormalization()(model)\n",
    "        model = Conv2D(24, (5, 5), strides=(stride_size, stride_size),activation='relu')(model)\n",
    "        model = BatchNormalization()(model)\n",
    "        model = Conv2D(24, (kernel_size, kernel_size), strides=(stride_size, stride_size),activation='relu')(model)\n",
    "        model = BatchNormalization()(model)\n",
    "        model = Conv2D(24, (3, 3), strides=(1, 1),activation='relu')(model)\n",
    "        model = BatchNormalization()(model)\n",
    "        return model\n",
    "    return conv"
   ]
  },
  {
   "cell_type": "code",
   "execution_count": 12,
   "metadata": {},
   "outputs": [],
   "source": [
    "def _lstm(kernel_size=3, stride_size=2):\n",
    "    def f(question_input): \n",
    "        model = Embedding(100, 100)(question_input)\n",
    "        model = LSTM(128,return_sequences = True)(model)\n",
    "        model = Dropout(0.2)(model)\n",
    "        model = LSTM(128, return_sequences = False)(model)\n",
    "        model = Dropout(0.2)(model)\n",
    "        return model\n",
    "    return f"
   ]
  },
  {
   "cell_type": "code",
   "execution_count": 13,
   "metadata": {
    "colab": {},
    "colab_type": "code",
    "id": "xKdKH33RQHf5",
    "nbpresent": {
     "id": "186bedbb-ef50-4a95-a41e-f1826544f346"
    }
   },
   "outputs": [],
   "source": [
    "def _mlp():\n",
    "    def f(model):\n",
    "        model = Dense(256)(model)\n",
    "        model = Activation('relu')(model)\n",
    "        model = Dense(256)(model)\n",
    "        model = Activation('relu')(model)\n",
    "        model = Dense(256)(model)\n",
    "        model = Activation('relu')(model)\n",
    "        model = Dense(256)(model)\n",
    "        model = Activation('relu')(model)\n",
    "        return model\n",
    "    return f\n",
    "\n",
    "model2_scene = Input((60, 80, 3))\n",
    "model2_question = Input((40,))\n",
    "model2_lstm = _lstm()(model2_question)\n",
    "model2_conv = _cnn()(model2_scene)\n",
    "model2_conv = Flatten()(model2_conv)\n",
    "model2_conv = Concatenate()([model2_conv, model2_lstm])"
   ]
  },
  {
   "cell_type": "code",
   "execution_count": 14,
   "metadata": {},
   "outputs": [],
   "source": [
    "model2_output = _mlp()(model2_conv) \n",
    "model2_output = Dense(len(unique_answers), activation='softmax')(model2_output)\n",
    "model2 = Model(inputs=[model2_scene, model2_question], outputs=model2_output)\n",
    "model2.compile(loss='categorical_crossentropy', optimizer='adam', metrics=['accuracy'])"
   ]
  },
  {
   "cell_type": "code",
   "execution_count": 15,
   "metadata": {},
   "outputs": [],
   "source": [
    "early_stops = EarlyStopping(patience=2, monitor='val_acc')\n",
    "checkpointer = ModelCheckpoint(filepath='model2.hdf5', verbose=1, save_best_only=True)"
   ]
  },
  {
   "cell_type": "code",
   "execution_count": 16,
   "metadata": {},
   "outputs": [
    {
     "name": "stdout",
     "output_type": "stream",
     "text": [
      "__________________________________________________________________________________________________\n",
      "Layer (type)                    Output Shape         Param #     Connected to                     \n",
      "==================================================================================================\n",
      "input_1 (InputLayer)            (None, 60, 80, 3)    0                                            \n",
      "__________________________________________________________________________________________________\n",
      "conv2d_1 (Conv2D)               (None, 28, 38, 24)   1824        input_1[0][0]                    \n",
      "__________________________________________________________________________________________________\n",
      "batch_normalization_1 (BatchNor (None, 28, 38, 24)   96          conv2d_1[0][0]                   \n",
      "__________________________________________________________________________________________________\n",
      "conv2d_2 (Conv2D)               (None, 12, 17, 24)   14424       batch_normalization_1[0][0]      \n",
      "__________________________________________________________________________________________________\n",
      "batch_normalization_2 (BatchNor (None, 12, 17, 24)   96          conv2d_2[0][0]                   \n",
      "__________________________________________________________________________________________________\n",
      "input_2 (InputLayer)            (None, 40)           0                                            \n",
      "__________________________________________________________________________________________________\n",
      "conv2d_3 (Conv2D)               (None, 5, 8, 24)     5208        batch_normalization_2[0][0]      \n",
      "__________________________________________________________________________________________________\n",
      "embedding_1 (Embedding)         (None, 40, 100)      10000       input_2[0][0]                    \n",
      "__________________________________________________________________________________________________\n",
      "batch_normalization_3 (BatchNor (None, 5, 8, 24)     96          conv2d_3[0][0]                   \n",
      "__________________________________________________________________________________________________\n",
      "lstm_1 (LSTM)                   (None, 40, 128)      117248      embedding_1[0][0]                \n",
      "__________________________________________________________________________________________________\n",
      "conv2d_4 (Conv2D)               (None, 3, 6, 24)     5208        batch_normalization_3[0][0]      \n",
      "__________________________________________________________________________________________________\n",
      "dropout_1 (Dropout)             (None, 40, 128)      0           lstm_1[0][0]                     \n",
      "__________________________________________________________________________________________________\n",
      "batch_normalization_4 (BatchNor (None, 3, 6, 24)     96          conv2d_4[0][0]                   \n",
      "__________________________________________________________________________________________________\n",
      "lstm_2 (LSTM)                   (None, 128)          131584      dropout_1[0][0]                  \n",
      "__________________________________________________________________________________________________\n",
      "flatten_1 (Flatten)             (None, 432)          0           batch_normalization_4[0][0]      \n",
      "__________________________________________________________________________________________________\n",
      "dropout_2 (Dropout)             (None, 128)          0           lstm_2[0][0]                     \n",
      "__________________________________________________________________________________________________\n",
      "concatenate_1 (Concatenate)     (None, 560)          0           flatten_1[0][0]                  \n",
      "                                                                 dropout_2[0][0]                  \n",
      "__________________________________________________________________________________________________\n",
      "dense_1 (Dense)                 (None, 256)          143616      concatenate_1[0][0]              \n",
      "__________________________________________________________________________________________________\n",
      "activation_1 (Activation)       (None, 256)          0           dense_1[0][0]                    \n",
      "__________________________________________________________________________________________________\n",
      "dense_2 (Dense)                 (None, 256)          65792       activation_1[0][0]               \n",
      "__________________________________________________________________________________________________\n",
      "activation_2 (Activation)       (None, 256)          0           dense_2[0][0]                    \n",
      "__________________________________________________________________________________________________\n",
      "dense_3 (Dense)                 (None, 256)          65792       activation_2[0][0]               \n",
      "__________________________________________________________________________________________________\n",
      "activation_3 (Activation)       (None, 256)          0           dense_3[0][0]                    \n",
      "__________________________________________________________________________________________________\n",
      "dense_4 (Dense)                 (None, 256)          65792       activation_3[0][0]               \n",
      "__________________________________________________________________________________________________\n",
      "activation_4 (Activation)       (None, 256)          0           dense_4[0][0]                    \n",
      "__________________________________________________________________________________________________\n",
      "dense_5 (Dense)                 (None, 26)           6682        activation_4[0][0]               \n",
      "==================================================================================================\n",
      "Total params: 633,554\n",
      "Trainable params: 633,362\n",
      "Non-trainable params: 192\n",
      "__________________________________________________________________________________________________\n"
     ]
    }
   ],
   "source": [
    "model2.summary()"
   ]
  },
  {
   "cell_type": "code",
   "execution_count": 17,
   "metadata": {},
   "outputs": [
    {
     "name": "stdout",
     "output_type": "stream",
     "text": [
      "Train on 115020 samples, validate on 20000 samples\n",
      "Epoch 1/10\n",
      " - 164s - loss: 1.1957 - acc: 0.4051 - val_loss: 0.9966 - val_acc: 0.4305\n",
      "\n",
      "Epoch 00001: val_loss improved from inf to 0.99657, saving model to model2.hdf5\n",
      "Epoch 2/10\n",
      " - 161s - loss: 0.9955 - acc: 0.4414 - val_loss: 0.9854 - val_acc: 0.4511\n",
      "\n",
      "Epoch 00002: val_loss improved from 0.99657 to 0.98537, saving model to model2.hdf5\n",
      "Epoch 3/10\n",
      " - 162s - loss: 0.9832 - acc: 0.4479 - val_loss: 0.9741 - val_acc: 0.4551\n",
      "\n",
      "Epoch 00003: val_loss improved from 0.98537 to 0.97412, saving model to model2.hdf5\n",
      "Epoch 4/10\n",
      " - 161s - loss: 0.9604 - acc: 0.4615 - val_loss: 0.9666 - val_acc: 0.4669\n",
      "\n",
      "Epoch 00004: val_loss improved from 0.97412 to 0.96662, saving model to model2.hdf5\n",
      "Epoch 5/10\n",
      " - 162s - loss: 0.9575 - acc: 0.4645 - val_loss: 0.9611 - val_acc: 0.4654\n",
      "\n",
      "Epoch 00005: val_loss improved from 0.96662 to 0.96111, saving model to model2.hdf5\n",
      "Epoch 6/10\n",
      " - 167s - loss: 0.9382 - acc: 0.4782 - val_loss: 0.9659 - val_acc: 0.4603\n",
      "\n",
      "Epoch 00006: val_loss did not improve from 0.96111\n",
      "Epoch 7/10\n",
      " - 169s - loss: 0.9276 - acc: 0.4878 - val_loss: 0.9657 - val_acc: 0.4668\n",
      "\n",
      "Epoch 00007: val_loss did not improve from 0.96111\n",
      "Epoch 8/10\n",
      " - 164s - loss: 0.9134 - acc: 0.4989 - val_loss: 0.9742 - val_acc: 0.4682\n",
      "\n",
      "Epoch 00008: val_loss did not improve from 0.96111\n",
      "Epoch 9/10\n",
      " - 170s - loss: 0.9083 - acc: 0.5089 - val_loss: 0.9989 - val_acc: 0.4597\n",
      "\n",
      "Epoch 00009: val_loss did not improve from 0.96111\n",
      "Epoch 10/10\n",
      " - 175s - loss: 0.8798 - acc: 0.5244 - val_loss: 0.9849 - val_acc: 0.4688\n",
      "\n",
      "Epoch 00010: val_loss did not improve from 0.96111\n"
     ]
    },
    {
     "data": {
      "text/plain": [
       "<keras.callbacks.History at 0x153271ad630>"
      ]
     },
     "execution_count": 17,
     "metadata": {},
     "output_type": "execute_result"
    }
   ],
   "source": [
    "model2.fit([train_images, train_questions], to_categorical(train_answers),validation_data=([test_images, test_questions], to_categorical(test_answers)), epochs = 10, shuffle = True, batch_size = 100, callbacks=[checkpointer], verbose=2)"
   ]
  },
  {
   "cell_type": "markdown",
   "metadata": {},
   "source": [
    "### Model 1"
   ]
  },
  {
   "cell_type": "code",
   "execution_count": 12,
   "metadata": {},
   "outputs": [],
   "source": [
    "question_input = Input((40, ))\n",
    "\n",
    "q = Embedding(100, 100)(question_input)\n",
    "q = LSTM(128,return_sequences = True)(q)\n",
    "q = Dropout(0.2)(q)\n",
    "q = LSTM(128,return_sequences = True)(q)\n",
    "q = Dropout(0.2)(q)\n",
    "q = LSTM(128, return_sequences = False)(q)\n",
    "q = Dropout(0.2)(q)"
   ]
  },
  {
   "cell_type": "code",
   "execution_count": 13,
   "metadata": {},
   "outputs": [],
   "source": [
    "image_input = Input(shape=(60, 80, 3))\n",
    "\n",
    "i = Sequential()\n",
    "i.add(Conv2D(24, (5, 5)))\n",
    "i.add(Activation('relu'))\n",
    "i.add(MaxPooling2D(pool_size=(2, 2)))\n",
    "\n",
    "i.add(Conv2D(24, (5, 5)))\n",
    "i.add(Activation('relu'))\n",
    "i.add(MaxPooling2D(pool_size=(2, 2)))\n",
    "\n",
    "i.add(Conv2D(24, (5, 5)))\n",
    "i.add(Activation('relu'))\n",
    "i.add(MaxPooling2D(pool_size=(2, 2)))\n",
    "\n",
    "i.add(Flatten())\n",
    "i.add(Dense(64))\n",
    "i.add(Activation('relu'))\n",
    "i.add(Dropout(0.5))\n",
    "i.add(Dense(1))\n",
    "i.add(Activation('sigmoid'))\n",
    "\n",
    "i = i(image_input)"
   ]
  },
  {
   "cell_type": "code",
   "execution_count": 14,
   "metadata": {},
   "outputs": [],
   "source": [
    "merged = concatenate([i, q])"
   ]
  },
  {
   "cell_type": "code",
   "execution_count": 15,
   "metadata": {},
   "outputs": [],
   "source": [
    "model1_output = Dense(len(unique_answers), activation='sigmoid')(merged)\n",
    "model1 = Model(inputs=[image_input, question_input], outputs=model1_output)"
   ]
  },
  {
   "cell_type": "code",
   "execution_count": 16,
   "metadata": {},
   "outputs": [],
   "source": [
    "model1.compile(loss='sparse_categorical_crossentropy', optimizer='rmsprop', metrics = ['accuracy'])"
   ]
  },
  {
   "cell_type": "code",
   "execution_count": 17,
   "metadata": {},
   "outputs": [],
   "source": [
    "early_stops = EarlyStopping(patience=2, monitor='val_acc')\n",
    "checkpointer = ModelCheckpoint(filepath='model11.hdf5', verbose=1, save_best_only=True)"
   ]
  },
  {
   "cell_type": "code",
   "execution_count": 18,
   "metadata": {},
   "outputs": [
    {
     "name": "stdout",
     "output_type": "stream",
     "text": [
      "__________________________________________________________________________________________________\n",
      "Layer (type)                    Output Shape         Param #     Connected to                     \n",
      "==================================================================================================\n",
      "input_1 (InputLayer)            (None, 40)           0                                            \n",
      "__________________________________________________________________________________________________\n",
      "embedding_1 (Embedding)         (None, 40, 100)      10000       input_1[0][0]                    \n",
      "__________________________________________________________________________________________________\n",
      "lstm_1 (LSTM)                   (None, 40, 128)      117248      embedding_1[0][0]                \n",
      "__________________________________________________________________________________________________\n",
      "dropout_1 (Dropout)             (None, 40, 128)      0           lstm_1[0][0]                     \n",
      "__________________________________________________________________________________________________\n",
      "lstm_2 (LSTM)                   (None, 40, 128)      131584      dropout_1[0][0]                  \n",
      "__________________________________________________________________________________________________\n",
      "dropout_2 (Dropout)             (None, 40, 128)      0           lstm_2[0][0]                     \n",
      "__________________________________________________________________________________________________\n",
      "input_2 (InputLayer)            (None, 60, 80, 3)    0                                            \n",
      "__________________________________________________________________________________________________\n",
      "lstm_3 (LSTM)                   (None, 128)          131584      dropout_2[0][0]                  \n",
      "__________________________________________________________________________________________________\n",
      "sequential_1 (Sequential)       (None, 1)            67665       input_2[0][0]                    \n",
      "__________________________________________________________________________________________________\n",
      "dropout_3 (Dropout)             (None, 128)          0           lstm_3[0][0]                     \n",
      "__________________________________________________________________________________________________\n",
      "concatenate_1 (Concatenate)     (None, 129)          0           sequential_1[1][0]               \n",
      "                                                                 dropout_3[0][0]                  \n",
      "__________________________________________________________________________________________________\n",
      "dense_3 (Dense)                 (None, 26)           3380        concatenate_1[0][0]              \n",
      "==================================================================================================\n",
      "Total params: 461,461\n",
      "Trainable params: 461,461\n",
      "Non-trainable params: 0\n",
      "__________________________________________________________________________________________________\n"
     ]
    }
   ],
   "source": [
    "model1.summary()"
   ]
  },
  {
   "cell_type": "code",
   "execution_count": 19,
   "metadata": {},
   "outputs": [
    {
     "name": "stdout",
     "output_type": "stream",
     "text": [
      "Train on 115020 samples, validate on 20000 samples\n",
      "Epoch 1/10\n",
      " - 235s - loss: 1.5589 - acc: 0.3059 - val_loss: 1.1815 - val_acc: 0.4147\n",
      "\n",
      "Epoch 00001: val_loss improved from inf to 1.18152, saving model to model11.hdf5\n",
      "Epoch 2/10\n",
      " - 231s - loss: 1.0331 - acc: 0.4241 - val_loss: 0.9921 - val_acc: 0.4358\n",
      "\n",
      "Epoch 00002: val_loss improved from 1.18152 to 0.99205, saving model to model11.hdf5\n",
      "Epoch 3/10\n",
      " - 231s - loss: 0.9951 - acc: 0.4336 - val_loss: 0.9894 - val_acc: 0.4442\n",
      "\n",
      "Epoch 00003: val_loss improved from 0.99205 to 0.98941, saving model to model11.hdf5\n",
      "Epoch 4/10\n",
      " - 230s - loss: 0.9858 - acc: 0.4417 - val_loss: 1.0071 - val_acc: 0.4452\n",
      "\n",
      "Epoch 00004: val_loss did not improve from 0.98941\n",
      "Epoch 5/10\n",
      " - 230s - loss: 0.9833 - acc: 0.4474 - val_loss: 0.9738 - val_acc: 0.4530\n",
      "\n",
      "Epoch 00005: val_loss improved from 0.98941 to 0.97380, saving model to model11.hdf5\n",
      "Epoch 6/10\n",
      " - 232s - loss: 0.9756 - acc: 0.4538 - val_loss: 0.9832 - val_acc: 0.4591\n",
      "\n",
      "Epoch 00006: val_loss did not improve from 0.97380\n",
      "Epoch 7/10\n",
      " - 237s - loss: 0.9711 - acc: 0.4579 - val_loss: 0.9792 - val_acc: 0.4600\n",
      "\n",
      "Epoch 00007: val_loss did not improve from 0.97380\n",
      "Epoch 8/10\n",
      " - 232s - loss: 0.9673 - acc: 0.4645 - val_loss: 0.9655 - val_acc: 0.4610\n",
      "\n",
      "Epoch 00008: val_loss improved from 0.97380 to 0.96554, saving model to model11.hdf5\n",
      "Epoch 9/10\n",
      " - 231s - loss: 0.9653 - acc: 0.4638 - val_loss: 0.9693 - val_acc: 0.4691\n",
      "\n",
      "Epoch 00009: val_loss did not improve from 0.96554\n",
      "Epoch 10/10\n",
      " - 231s - loss: 0.9636 - acc: 0.4639 - val_loss: 0.9618 - val_acc: 0.4667\n",
      "\n",
      "Epoch 00010: val_loss improved from 0.96554 to 0.96185, saving model to model11.hdf5\n"
     ]
    },
    {
     "data": {
      "text/plain": [
       "<keras.callbacks.History at 0x1cd82707860>"
      ]
     },
     "execution_count": 19,
     "metadata": {},
     "output_type": "execute_result"
    }
   ],
   "source": [
    "model1.fit(x = [train_images, train_questions],y = train_answers, validation_data=([test_images, test_questions], test_answers), epochs = 10, shuffle = True, batch_size = 100, callbacks=[checkpointer], verbose=2)"
   ]
  }
 ],
 "metadata": {
  "accelerator": "TPU",
  "colab": {
   "collapsed_sections": [
    "D1rQ5a-SFOOG",
    "WG3R9I_b85DG"
   ],
   "name": "NNFL.ipynb",
   "provenance": [],
   "version": "0.3.2"
  },
  "kernelspec": {
   "display_name": "Python [default]",
   "language": "python",
   "name": "python3"
  },
  "language_info": {
   "codemirror_mode": {
    "name": "ipython",
    "version": 3
   },
   "file_extension": ".py",
   "mimetype": "text/x-python",
   "name": "python",
   "nbconvert_exporter": "python",
   "pygments_lexer": "ipython3",
   "version": "3.6.5"
  }
 },
 "nbformat": 4,
 "nbformat_minor": 1
}
